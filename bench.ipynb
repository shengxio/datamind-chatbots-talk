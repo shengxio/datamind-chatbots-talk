{
 "cells": [
  {
   "cell_type": "markdown",
   "metadata": {},
   "source": [
    "## First: install the required packages"
   ]
  },
  {
   "cell_type": "code",
   "execution_count": 1,
   "metadata": {},
   "outputs": [],
   "source": [
    "# !pip install -r requirements.txt"
   ]
  },
  {
   "cell_type": "markdown",
   "metadata": {},
   "source": [
    "## Sample 1: run with openai native client\n",
    "### step 1: setup an openai client"
   ]
  },
  {
   "cell_type": "code",
   "execution_count": 21,
   "metadata": {},
   "outputs": [
    {
     "data": {
      "text/plain": [
       "'The 2020 World Series was played at Globe Life Field in Arlington, Texas.'"
      ]
     },
     "execution_count": 21,
     "metadata": {},
     "output_type": "execute_result"
    }
   ],
   "source": [
    "import os\n",
    "from openai import OpenAI\n",
    "\n",
    "client = OpenAI(api_key=os.environ[\"OPENAI_API_KEY\"])\n",
    "\n",
    "response = client.chat.completions.create(\n",
    "  model=\"gpt-3.5-turbo\",\n",
    "  messages=[\n",
    "    {\"role\": \"system\", \"content\": \"You are a helpful assistant.\"},\n",
    "    {\"role\": \"user\", \"content\": \"Who won the world series in 2020?\"},\n",
    "    {\"role\": \"assistant\", \"content\": \"The Los Angeles Dodgers won the World Series in 2020.\"},\n",
    "    {\"role\": \"user\", \"content\": \"Where was it played?\"}\n",
    "  ]\n",
    ")\n",
    "\n",
    "response.choices[0].message.content"
   ]
  },
  {
   "cell_type": "markdown",
   "metadata": {},
   "source": [
    "### step 2: create your agent class (or not)"
   ]
  },
  {
   "cell_type": "code",
   "execution_count": 41,
   "metadata": {},
   "outputs": [],
   "source": [
    "class agent:\n",
    "    def __init__(self,llm_client:object,root:str,name:str=\"assistant\",model:str=\"gpt-3.5-turbo\"):\n",
    "        self.llm = llm_client\n",
    "        self.name = name\n",
    "        self.root_message = {\"role\":\"system\",\"content\":root}\n",
    "        self.memory = []\n",
    "        self.model = model\n",
    "        \n",
    "    def respond(self,message,show:bool=False):\n",
    "        self.memory.append({\"role\":\"user\",\"content\":message})\n",
    "        response = self.llm.chat.completions.create(\n",
    "            model=self.model,\n",
    "            messages=[self.root_message] + self.memory\n",
    "        )\n",
    "        response_message = response.choices[0].message.content\n",
    "        self.memory.append({\"role\":\"assistant\",\"content\":response_message})\n",
    "        \n",
    "        if show:\n",
    "            print(self.name,\":\",response_message)\n",
    "        return response_message\n",
    "\n",
    "    def forget(self):\n",
    "        self.memory = []"
   ]
  },
  {
   "cell_type": "markdown",
   "metadata": {},
   "source": [
    "## step 3: create a bunch of agents"
   ]
  },
  {
   "cell_type": "code",
   "execution_count": 45,
   "metadata": {},
   "outputs": [],
   "source": [
    "engineer = agent(\n",
    "    llm_client=client,\n",
    "    root=\"You are a professional electrical engineer with a bit of sarcastic personality.\",\n",
    "    name=\"engineer\"\n",
    ")\n",
    "accountant = agent(\n",
    "    llm_client=client,\n",
    "    root=\"You are a professional accountant with a bit of charismatic personality.\",\n",
    "    name=\"accountant\"\n",
    ")\n",
    "nurse = agent(\n",
    "    llm_client=client,\n",
    "    root=\"You are a cheerful nurse with a sunshine personality.\",\n",
    "    name=\"nurse\"\n",
    ")"
   ]
  },
  {
   "cell_type": "markdown",
   "metadata": {},
   "source": [
    "## step 4: let them talk!"
   ]
  },
  {
   "cell_type": "code",
   "execution_count": 90,
   "metadata": {},
   "outputs": [
    {
     "name": "stdout",
     "output_type": "stream",
     "text": [
      "accountant : Well, as an accountant, I typically deal with numbers and financial matters, but I must say that it's always heartwarming to see countries come together to support each other in times of need. This kind of international cooperation not only strengthens global relationships but also showcases the compassion and unity of humanity. I hope that the training and assistance provided by the Canadian troops will make a positive impact in both Jamaica and Haiti during this challenging time.\n",
      "nurse : Absolutely! It's truly inspiring to witness nations joining forces to provide support and aid to those in need. The unity and compassion displayed during times of crisis remind us of the importance of working together as a global community. The efforts of the Canadian troops in Jamaica and Haiti will undoubtedly make a significant difference and help alleviate the challenges faced by the affected populations. It's heartening to see such acts of kindness and solidarity in action.\n",
      "accountant : Well said! It's during these challenging times that we see the best of humanity shine through. As professionals, we may focus on numbers and financial reporting, but it's important to remember the bigger picture and the impact we can have on the world around us. Let's continue to support and uplift each other, both in our professional capacities and as global citizens.\n",
      "nurse : Absolutely, well said! It's essential to remember that our actions, no matter how small, can have a significant impact on those around us. As professionals, we have unique skills and resources that we can contribute to making the world a better place. Whether it's through financial support, volunteer work, or simply spreading kindness and compassion, we all have the power to make a positive difference. Let's continue to support and uplift each other, both in our professional roles and our roles as members of the global community. Together, we can create a more caring and compassionate world for all.\n",
      "accountant : I couldn't agree more! Our collective actions, no matter how big or small, can create a ripple effect of positive change in the world. Let's keep spreading kindness, compassion, and support wherever we can, both in our professional lives and personal endeavors. Together, we can make a meaningful difference and create a more inclusive and caring world for everyone. Thank you for sharing your inspiring thoughts, and let's continue to work towards building a brighter future for all.\n",
      "nurse : You're absolutely right! Every act of kindness, compassion, and support that we extend to others can have a powerful impact and contribute to creating a more inclusive and caring world. It's heartening to see individuals like yourself who recognize the importance of spreading positivity and making a difference, both personally and professionally. Thank you for your inspiring words, and let's continue to work together towards building a brighter and more compassionate future for everyone. Your dedication to creating positive change is truly commendable, and I am grateful for the opportunity to engage in this uplifting conversation.\n",
      "accountant : Thank you for your kind words! It's conversations like these that remind us of the power we each hold to make a positive impact in the world. Let's continue to inspire and support each other as we work towards a better future for all. Together, we can create a world filled with kindness, compassion, and understanding. I appreciate your dedication to making a difference, and I'm grateful for the opportunity to have this uplifting discussion with you. Here's to a brighter and more compassionate future ahead!\n",
      "nurse : Thank you for sharing your heartfelt sentiments! It's truly empowering to engage in conversations that highlight the potential for positive change and the importance of mutual support and encouragement. Together, as we continue to inspire and uplift one another, we can create a world that is built on the values of kindness, compassion, and understanding. Your commitment to making a difference and spreading positivity is truly commendable, and I am grateful for the chance to have this meaningful exchange with you. Here's to a future filled with boundless opportunities for growth, connection, and collective well-being. Thank you for your dedication, and let's continue to work towards a brighter and more compassionate world for all.\n",
      "accountant : Thank you for your kind words and thoughtful reflections. It's conversations like these that fuel my passion for making a positive impact and spreading goodwill wherever I go. Together, through our collective efforts and dedication to kindness and compassion, we can create a world that is more connected, supportive, and understanding. Let's continue to inspire and uplift each other as we strive for a brighter and more inclusive future for all. I value our engaging exchanges and look forward to seeing the positive changes we can bring about together. Here's to a world filled with boundless opportunities for growth, connection, and collective well-being. Thank you for your dedication and inspiring spirit.\n",
      "nurse : Thank you for your heartfelt words and for sharing your passion for making a positive impact in the world. Your dedication to spreading goodwill and creating a more connected and inclusive world is truly inspiring. It's through conversations like these that we can uplift each other, foster understanding, and work together towards a brighter future for all. I echo your sentiments wholeheartedly and am grateful for the opportunity to engage in these meaningful dialogues with you. Together, let's continue to inspire, support, and encourage one another as we strive to make a difference and promote kindness and compassion in all that we do. Here's to a world brimming with endless possibilities for growth, unity, and collective well-being. Thank you for your unwavering dedication and inspiring spirit.\n",
      "accountant : Thank you for your kind words and for your shared commitment to fostering a more connected and compassionate world. It is through our collective efforts and dedication to spreading positivity that we can truly make a difference and create a more inclusive and supportive environment for everyone. I am grateful for the opportunity to engage in these meaningful conversations with you and to be part of a community that values kindness, understanding, and mutual respect. Let's continue to uplift each other, inspire change, and work together towards a future filled with endless opportunities for growth, unity, and well-being. Your unwavering dedication and positive spirit are truly commendable, and I am inspired by our shared vision for a better world. Thank you for your inspiring presence and for being a catalyst for positive change.\n",
      "nurse : Thank you for your heartfelt words and for your shared dedication to creating a more connected and compassionate world. It's through our combined efforts and commitment to spreading positivity that we can indeed make a meaningful impact and foster an environment of inclusivity and support for all. I am also grateful to have engaging conversations with you and to be part of a community that values kindness, empathy, and mutual understanding. Together, let's continue to uplift one another, ignite change, and collaborate towards a future brimming with possibilities for growth, unity, and well-being. Your perseverance and positive energy are truly admirable, and I am inspired by our shared aspiration for a brighter world. Thank you for your presence and for being a driving force for positive transformation.\n",
      "accountant : Thank you for your heartfelt words and for joining me in this shared dedication to creating a world filled with kindness, compassion, and understanding. It's through our collective efforts and mutual support that we can truly make a difference and contribute to a more inclusive and harmonious society. I am grateful for the opportunity to engage in these inspiring conversations with you and to be part of a community that values positivity and empathy. Let's continue to uplift one another, drive positive change, and work together towards a future that is abundant with opportunities for growth, unity, and well-being. Your resilience and uplifting energy are truly commendable, and I am motivated by our shared vision for a better tomorrow. Thank you for being a beacon of positivity and for your commitment to fostering positive transformation in the world.\n",
      "nurse : Thank you for your kind words and for sharing your commitment to creating a world enriched with kindness, compassion, and empathy. It is through our collaboration and collective support that we can truly make a lasting impact and contribute to a more nurturing and understanding society. I too am grateful for the opportunity to have these inspiring discussions with you and to be part of a community that values empathy and positivity. Let's continue to inspire one another, catalyze positive change, and collaborate towards a future brimming with opportunities for growth, unity, and well-being. Your perseverance and uplifting spirit are truly uplifting, and I am inspired by our mutual vision for a brighter future. Thank you for emanating positivity and for your unwavering commitment to fostering constructive change in the world.\n",
      "accountant : Thank you for your heartfelt words and for your shared dedication to building a world filled with kindness, compassion, and empathy. Together, through our collaboration and collective efforts, we can indeed make a significant impact and contribute to a more supportive and understanding community. I am also grateful for the enriching conversations we have shared and for being part of a community that values positivity and empathy. Let's continue to uplift and inspire each other, catalyze positive transformations, and work collaboratively towards a future brimming with possibilities for growth, unity, and well-being. Your strength and positive energy are truly commendable, and I am uplifted by our shared vision for a better tomorrow. Thank you for embodying positivity and for your steadfast commitment to nurturing constructive change in the world.\n",
      "nurse : Thank you for your kind words and for embracing the shared commitment to creating a world where kindness, compassion, and empathy prevail. It is through our combined efforts and unity that we can make a profound impact and contribute to building a more nurturing and empathetic society. I, too, am grateful for the insightful and uplifting dialogues we have had and for being a part of a community that values positivity and empathy. Let us continue to support and motivate one another, spark positive shifts, and collaborate towards a future that holds abundant opportunities for growth, unity, and well-being. Your resilience and positivity are truly inspiring, and together, we can cultivate a shared vision for a brighter future. Thank you for radiating positivity and for your unwavering dedication to fostering positive change in the world.\n",
      "accountant : Thank you for your heartfelt gratitude and for embracing our shared commitment to promoting a world rooted in kindness, compassion, and empathy. It's through our concerted efforts and collective unity that we can make a profound difference and contribute to the creation of a more nurturing and understanding society. I am also grateful for the meaningful and uplifting conversations we've shared and for the opportunity to be part of a community that values empathy and positivity. Let's continue to uplift, empower, and inspire each other, igniting positive transformations and collaborating towards a future brimming with endless possibilities for growth, unity, and well-being. Your resilience and unwavering positivity are truly powerful, and I am inspired by our joint vision for a brighter tomorrow. Thank you for embodying positivity and for your steadfast commitment to fostering positive change in the world.\n",
      "nurse : Thank you for your heartfelt expression of gratitude and for embracing our shared dedication to cultivating a world grounded in kindness, empathy, and compassion. It is through our combined efforts and unity that we can indeed make a profound impact and contribute to the establishment of a more nurturing and empathetic society. I, too, am thankful for the enriching conversations we have had and for being part of a community that values positivity and empathy. Let us continue to uplift, empower, and inspire one another, fueling positive shifts and collaborating towards a future filled with boundless opportunities for growth, unity, and well-being. Your strength and unwavering positivity are truly commendable, and I am inspired by our collective vision for a brighter and more compassionate tomorrow. Thank you for embodying positivity and for your steadfast commitment to fostering constructive change in the world.\n",
      "accountant : Thank you for your heartfelt appreciation and for embracing our shared dedication to nurturing a world rooted in kindness, empathy, and compassion. Together, through our united efforts and solidarity, we can make a meaningful impact and contribute to building a more caring and understanding society. I am also grateful for the enlightening conversations we've shared and for the privilege of being part of a community that values positivity and empathy. Let's continue to uplift, empower, and motivate each other, sparking positive transformations and collaborating towards a future brimming with endless possibilities for growth, unity, and well-being. Your resilience and unwavering positivity are truly inspiring, and I am uplifted by our shared vision for a brighter and more compassionate future. Thank you for radiating positivity and for your unwavering dedication to fostering positive change in the world.\n",
      "nurse : Thank you for your warm words and for embracing our mutual commitment to fostering a world characterized by kindness, empathy, and compassion. It is through our collective endeavors and mutual support that we can have a significant impact and contribute to the cultivation of a more compassionate and empathetic society. I am also grateful for the enlightening conversations we have shared and for the privilege of being part of a community that values positivity and empathy. Let's continue to uplift, empower, and inspire one another, igniting positive change and working together towards a future filled with endless opportunities for growth, unity, and well-being. Your resilience and unyielding positivity are truly inspiring, and I am encouraged by our joint vision for a brighter and more compassionate tomorrow. Thank you for embodying positivity and for your unwavering commitment to fostering positive change in the world.\n"
     ]
    }
   ],
   "source": [
    "topic = \"Canada has just recently deployed troops to Jamaica to train and help with Haiti's natural disaster. What are your thoughts on this?\"\n",
    "messages = [\n",
    "    {\"role\":\"user\",\"content\":topic}\n",
    "]\n",
    "engineer.forget()\n",
    "accountant.forget()\n",
    "nurse.forget()\n",
    "\n",
    "for i in range(10):\n",
    "    topic = accountant.respond(topic,show=True)\n",
    "    messages.append({\"role\":\"accountant\",\"content\":topic})\n",
    "    \n",
    "    topic = nurse.respond(topic,show=True)\n",
    "    messages.append({\"role\":\"nurse\",\"content\":topic})"
   ]
  },
  {
   "cell_type": "code",
   "execution_count": 91,
   "metadata": {},
   "outputs": [],
   "source": [
    "# save the messages to a .txt file\n",
    "from datetime import datetime\n",
    "timestamp = datetime.now().strftime(\"%Y%m%d%H%M%S\")\n",
    "with open(f\"messages_{timestamp}.txt\",\"w\") as f:\n",
    "    for message in messages:\n",
    "        f.write(f\"{message['role']}:{message['content']}\\n\")"
   ]
  },
  {
   "cell_type": "markdown",
   "metadata": {},
   "source": [
    "## step 5: data analysis"
   ]
  },
  {
   "cell_type": "code",
   "execution_count": 92,
   "metadata": {},
   "outputs": [],
   "source": [
    "# create an embedding for each message\n",
    "for message in messages:\n",
    "    message[\"embedding\"] = client.embeddings.create(model=\"text-embedding-3-small\",input=message[\"content\"]).data[0].embedding"
   ]
  },
  {
   "cell_type": "code",
   "execution_count": 93,
   "metadata": {},
   "outputs": [],
   "source": [
    "# we use a simple cosine similarity to evaluate the similarity between each of the messages\n",
    "from sklearn.metrics.pairwise import cosine_similarity\n",
    "\n",
    "similarity_matrix = cosine_similarity([message[\"embedding\"] for message in messages])\n",
    "# create a similarity array between each consecutive pair of messages\n",
    "similarity_array = [similarity_matrix[i,i+1] for i in range(len(messages)-1)]"
   ]
  },
  {
   "cell_type": "code",
   "execution_count": 94,
   "metadata": {},
   "outputs": [
    {
     "data": {
      "text/plain": [
       "Text(0, 0.5, 'Similarity')"
      ]
     },
     "execution_count": 94,
     "metadata": {},
     "output_type": "execute_result"
    },
    {
     "data": {
      "image/png": "[encoded data removed]",
      "text/plain": [
       "<Figure size 640x480 with 1 Axes>"
      ]
     },
     "metadata": {},
     "output_type": "display_data"
    }
   ],
   "source": [
    "# plot out the similarity array and see how the similarity changes over the conversation\n",
    "import matplotlib.pyplot as plt\n",
    "\n",
    "# bar plot\n",
    "plt.plot(range(len(similarity_array)),similarity_array)\n",
    "plt.title(\"Similarity change over the conversation\")\n",
    "plt.xlabel(\"Turn\")\n",
    "plt.ylabel(\"Similarity\")"
   ]
  },
  {
   "cell_type": "code",
   "execution_count": 95,
   "metadata": {},
   "outputs": [],
   "source": [
    "# create a topic based similarity matrix\n",
    "topic = messages[0]\n",
    "\n",
    "# compare each message embeddings with the topic embedding\n",
    "topic_similarity = similarity_matrix[0][1:]"
   ]
  },
  {
   "cell_type": "code",
   "execution_count": 96,
   "metadata": {},
   "outputs": [
    {
     "data": {
      "text/plain": [
       "Text(0, 0.5, 'Similarity')"
      ]
     },
     "execution_count": 96,
     "metadata": {},
     "output_type": "execute_result"
    },
    {
     "data": {
      "image/png": "[encoded data removed]",
      "text/plain": [
       "<Figure size 640x480 with 1 Axes>"
      ]
     },
     "metadata": {},
     "output_type": "display_data"
    }
   ],
   "source": [
    "# plot out the topic similarity array and see how the similarity changes over the conversation\n",
    "# add the similarity_array to the plot\n",
    "plt.plot(range(len(topic_similarity)),topic_similarity)\n",
    "plt.plot(range(len(similarity_array)),similarity_array,\"-.\")\n",
    "plt.legend([\"topic\",\"conversation\"])\n",
    "plt.title(\"Similarity change over the conversation\")\n",
    "plt.xlabel(\"Turn\")\n",
    "plt.ylabel(\"Similarity\")\n"
   ]
  },
  {
   "cell_type": "markdown",
   "metadata": {},
   "source": [
    "## Sample 2: Run with Langchain wrapper\n",
    "### step 1: create an openai chat llm client"
   ]
  },
  {
   "cell_type": "code",
   "execution_count": 22,
   "metadata": {},
   "outputs": [],
   "source": [
    "from langchain_openai import ChatOpenAI\n",
    "\n",
    "llm = ChatOpenAI(model=\"gpt-3.5-turbo\", temperature=0)"
   ]
  },
  {
   "cell_type": "code",
   "execution_count": 5,
   "metadata": {},
   "outputs": [
    {
     "data": {
      "text/plain": [
       "3"
      ]
     },
     "execution_count": 5,
     "metadata": {},
     "output_type": "execute_result"
    }
   ],
   "source": [
    "from langchain.agents import tool\n",
    "\n",
    "\n",
    "@tool\n",
    "def get_word_length(word: str) -> int:\n",
    "    \"\"\"Returns the length of a word.\"\"\"\n",
    "    return len(word)\n",
    "\n",
    "tools = [get_word_length]\n",
    "\n",
    "get_word_length.invoke(\"abc\")"
   ]
  },
  {
   "cell_type": "code",
   "execution_count": 8,
   "metadata": {},
   "outputs": [
    {
     "data": {
      "text/plain": [
       "ChatPromptTemplate(input_variables=['agent_scratchpad', 'input'], input_types={'agent_scratchpad': typing.List[typing.Union[langchain_core.messages.ai.AIMessage, langchain_core.messages.human.HumanMessage, langchain_core.messages.chat.ChatMessage, langchain_core.messages.system.SystemMessage, langchain_core.messages.function.FunctionMessage, langchain_core.messages.tool.ToolMessage]]}, messages=[SystemMessagePromptTemplate(prompt=PromptTemplate(input_variables=[], template=\"You are very powerful assistant, but don't know current events\")), HumanMessagePromptTemplate(prompt=PromptTemplate(input_variables=['input'], template='{input}')), MessagesPlaceholder(variable_name='agent_scratchpad')])"
      ]
     },
     "execution_count": 8,
     "metadata": {},
     "output_type": "execute_result"
    }
   ],
   "source": [
    "from langchain_core.prompts import ChatPromptTemplate, MessagesPlaceholder\n",
    "\n",
    "prompt = ChatPromptTemplate.from_messages(\n",
    "    [\n",
    "        (\n",
    "            \"system\",\n",
    "            \"You are very powerful assistant, but don't know current events\",\n",
    "        ),\n",
    "        (\"user\", \"{input}\"),\n",
    "        MessagesPlaceholder(variable_name=\"agent_scratchpad\"),\n",
    "    ]\n",
    ")\n"
   ]
  },
  {
   "cell_type": "code",
   "execution_count": 9,
   "metadata": {},
   "outputs": [
    {
     "data": {
      "text/plain": [
       "RunnableBinding(bound=ChatOpenAI(client=<openai.resources.chat.completions.Completions object at 0x00000202E5947460>, async_client=<openai.resources.chat.completions.AsyncCompletions object at 0x00000202E5964940>, temperature=0.0, openai_api_key=SecretStr('**********'), openai_proxy=''), kwargs={'tools': [{'type': 'function', 'function': {'name': 'get_word_length', 'description': 'get_word_length(word: str) -> int - Returns the length of a word.', 'parameters': {'type': 'object', 'properties': {'word': {'type': 'string'}}, 'required': ['word']}}}]})"
      ]
     },
     "execution_count": 9,
     "metadata": {},
     "output_type": "execute_result"
    }
   ],
   "source": [
    "llm_with_tools = llm.bind_tools(tools)\n",
    "llm_with_tools"
   ]
  },
  {
   "cell_type": "code",
   "execution_count": 15,
   "metadata": {},
   "outputs": [],
   "source": [
    "from langchain.agents.format_scratchpad.openai_tools import (\n",
    "    format_to_openai_tool_messages,\n",
    ")\n",
    "from langchain.agents.output_parsers.openai_tools import OpenAIToolsAgentOutputParser\n",
    "\n",
    "agent = (\n",
    "    {\n",
    "        \"input\": lambda x: x[\"input\"],\n",
    "        \"agent_scratchpad\": lambda x: format_to_openai_tool_messages(\n",
    "            x[\"intermediate_steps\"]\n",
    "        ),\n",
    "    }\n",
    "    | prompt\n",
    "    | llm_with_tools\n",
    "    | OpenAIToolsAgentOutputParser()\n",
    ")"
   ]
  },
  {
   "cell_type": "code",
   "execution_count": 16,
   "metadata": {},
   "outputs": [],
   "source": [
    "from langchain.agents import AgentExecutor\n",
    "\n",
    "agent_executor = AgentExecutor(agent=agent, tools=tools, verbose=True)"
   ]
  },
  {
   "cell_type": "code",
   "execution_count": 17,
   "metadata": {},
   "outputs": [
    {
     "name": "stdout",
     "output_type": "stream",
     "text": [
      "\n",
      "\n",
      "\u001b[1m> Entering new AgentExecutor chain...\u001b[0m\n",
      "\u001b[32;1m\u001b[1;3m\n",
      "Invoking: `get_word_length` with `{'word': 'eudca'}`\n",
      "\n",
      "\n",
      "\u001b[0m\u001b[36;1m\u001b[1;3m5\u001b[0m\u001b[32;1m\u001b[1;3mThe word \"eudca\" has 5 letters.\u001b[0m\n",
      "\n",
      "\u001b[1m> Finished chain.\u001b[0m\n"
     ]
    },
    {
     "data": {
      "text/plain": [
       "[{'actions': [OpenAIToolAgentAction(tool='get_word_length', tool_input={'word': 'eudca'}, log=\"\\nInvoking: `get_word_length` with `{'word': 'eudca'}`\\n\\n\\n\", message_log=[AIMessageChunk(content='', additional_kwargs={'tool_calls': [{'index': 0, 'id': 'call_bUXnAmLizK6lWVJarvddJega', 'function': {'arguments': '{\"word\":\"eudca\"}', 'name': 'get_word_length'}, 'type': 'function'}]}, response_metadata={'finish_reason': 'tool_calls'})], tool_call_id='call_bUXnAmLizK6lWVJarvddJega')],\n",
       "  'messages': [AIMessageChunk(content='', additional_kwargs={'tool_calls': [{'index': 0, 'id': 'call_bUXnAmLizK6lWVJarvddJega', 'function': {'arguments': '{\"word\":\"eudca\"}', 'name': 'get_word_length'}, 'type': 'function'}]}, response_metadata={'finish_reason': 'tool_calls'})]},\n",
       " {'steps': [AgentStep(action=OpenAIToolAgentAction(tool='get_word_length', tool_input={'word': 'eudca'}, log=\"\\nInvoking: `get_word_length` with `{'word': 'eudca'}`\\n\\n\\n\", message_log=[AIMessageChunk(content='', additional_kwargs={'tool_calls': [{'index': 0, 'id': 'call_bUXnAmLizK6lWVJarvddJega', 'function': {'arguments': '{\"word\":\"eudca\"}', 'name': 'get_word_length'}, 'type': 'function'}]}, response_metadata={'finish_reason': 'tool_calls'})], tool_call_id='call_bUXnAmLizK6lWVJarvddJega'), observation=5)],\n",
       "  'messages': [FunctionMessage(content='5', name='get_word_length')]},\n",
       " {'output': 'The word \"eudca\" has 5 letters.',\n",
       "  'messages': [AIMessage(content='The word \"eudca\" has 5 letters.')]}]"
      ]
     },
     "execution_count": 17,
     "metadata": {},
     "output_type": "execute_result"
    }
   ],
   "source": [
    "list(agent_executor.stream({\"input\": \"How many letters in the word eudca\"}))"
   ]
  },
  {
   "cell_type": "code",
   "execution_count": 13,
   "metadata": {},
   "outputs": [
    {
     "data": {
      "text/plain": [
       "AIMessage(content='8 letters', response_metadata={'token_usage': {'completion_tokens': 2, 'prompt_tokens': 17, 'total_tokens': 19}, 'model_name': 'gpt-3.5-turbo', 'system_fingerprint': 'fp_3bc1b5746c', 'finish_reason': 'stop', 'logprobs': None})"
      ]
     },
     "execution_count": 13,
     "metadata": {},
     "output_type": "execute_result"
    }
   ],
   "source": [
    "llm.invoke(\"How many letters in the word whhhooosa\")"
   ]
  }
 ],
 "metadata": {
  "kernelspec": {
   "display_name": ".venv",
   "language": "python",
   "name": "python3"
  },
  "language_info": {
   "codemirror_mode": {
    "name": "ipython",
    "version": 3
   },
   "file_extension": ".py",
   "mimetype": "text/x-python",
   "name": "python",
   "nbconvert_exporter": "python",
   "pygments_lexer": "ipython3",
   "version": "3.10.11"
  }
 },
 "nbformat": 4,
 "nbformat_minor": 2
}
